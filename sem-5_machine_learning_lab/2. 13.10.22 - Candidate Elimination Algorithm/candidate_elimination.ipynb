{
 "cells": [
  {
   "cell_type": "code",
   "execution_count": 4,
   "metadata": {},
   "outputs": [
    {
     "name": "stdout",
     "output_type": "stream",
     "text": [
      "The instances:\n",
      " [['sunny' 'warm' 'normal' 'strong' 'warm' 'same']\n",
      " ['sunny' 'warm' 'high' 'strong' 'warm' 'same']\n",
      " ['rainy' 'cold' 'high' 'strong' 'warm' 'change']\n",
      " ['sunny' 'warm' 'high' 'strong' 'cool' 'change']] \n",
      "\n",
      "The target:\n",
      " ['yes' 'yes' 'no' 'yes'] \n",
      "\n"
     ]
    }
   ],
   "source": [
    "import numpy as np\n",
    "import pandas as pd\n",
    "\n",
    "data = pd.read_csv(\"data.csv\")\n",
    "\n",
    "concepts = np.array(data.iloc[:,0:-1])\n",
    "print(\"The instances:\\n\", concepts, \"\\n\")\n",
    "\n",
    "target = np.array(data.iloc[:,-1])\n",
    "print(\"The target:\\n\", target, \"\\n\")"
   ]
  },
  {
   "cell_type": "code",
   "execution_count": 5,
   "metadata": {},
   "outputs": [],
   "source": [
    "def learn(concepts, target):\n",
    "    print(\"\\nInitialization of specific_h and general_h:\\n\")\n",
    "    for i in range(len(concepts)):\n",
    "        if(target[i] == 'yes'):\n",
    "            specific_h = concepts[i].copy()\n",
    "            break\n",
    "    print(\"S0: \", specific_h)\n",
    "\n",
    "    general_h = [[\"?\" for i in range(len(specific_h))] for i in range(len(specific_h))]\n",
    "    print(\"G0: \", general_h)\n",
    "\n",
    "    print(\"\\n..... Algorithm runs over Instances .....\\n\")\n",
    "\n",
    "    for i,h in enumerate(concepts):\n",
    "        if target[i] == \"yes\":\n",
    "            print(i+1, \" -> positive instance => change specific_h but general_h remains same\")\n",
    "            for x in range(len(specific_h)):\n",
    "                if h[x] != specific_h[x]:\n",
    "                    print(h[x], \" != \", specific_h[x])\n",
    "                    specific_h[x] = '?'\n",
    "                    general_h[x][x] = '?'\n",
    "        if target[i] == \"no\":\n",
    "            print(i+1, \" -> negative instance => change general_h but specific_h remains same\")\n",
    "            for x in range(len(specific_h)):\n",
    "                if h[x] != specific_h[x]:\n",
    "                    general_h[x][x] = specific_h[x]\n",
    "                else:\n",
    "                    general_h[x][x] = '?'\n",
    "        print(specific_h)\n",
    "        print(general_h, \"\\n\")\n",
    "\n",
    "    indices = [i for i,val in enumerate(general_h) if val == ['?', '?', '?', '?', '?', '?']]\n",
    "    for i in indices:\n",
    "        general_h.remove(['?', '?', '?', '?', '?', '?'])\n",
    "    return specific_h, general_h\n",
    "\n",
    "\n",
    "        "
   ]
  },
  {
   "cell_type": "code",
   "execution_count": 6,
   "metadata": {},
   "outputs": [
    {
     "name": "stdout",
     "output_type": "stream",
     "text": [
      "\n",
      "Initialization of specific_h and general_h:\n",
      "\n",
      "S0:  ['sunny' 'warm' 'normal' 'strong' 'warm' 'same']\n",
      "G0:  [['?', '?', '?', '?', '?', '?'], ['?', '?', '?', '?', '?', '?'], ['?', '?', '?', '?', '?', '?'], ['?', '?', '?', '?', '?', '?'], ['?', '?', '?', '?', '?', '?'], ['?', '?', '?', '?', '?', '?']]\n",
      "\n",
      "..... Algorithm runs over Instances .....\n",
      "\n",
      "1  -> positive instance => change specific_h but general_h remains same\n",
      "['sunny' 'warm' 'normal' 'strong' 'warm' 'same']\n",
      "[['?', '?', '?', '?', '?', '?'], ['?', '?', '?', '?', '?', '?'], ['?', '?', '?', '?', '?', '?'], ['?', '?', '?', '?', '?', '?'], ['?', '?', '?', '?', '?', '?'], ['?', '?', '?', '?', '?', '?']] \n",
      "\n",
      "2  -> positive instance => change specific_h but general_h remains same\n",
      "high  !=  normal\n",
      "['sunny' 'warm' '?' 'strong' 'warm' 'same']\n",
      "[['?', '?', '?', '?', '?', '?'], ['?', '?', '?', '?', '?', '?'], ['?', '?', '?', '?', '?', '?'], ['?', '?', '?', '?', '?', '?'], ['?', '?', '?', '?', '?', '?'], ['?', '?', '?', '?', '?', '?']] \n",
      "\n",
      "3  -> negative instance => change general_h but specific_h remains same\n",
      "['sunny' 'warm' '?' 'strong' 'warm' 'same']\n",
      "[['sunny', '?', '?', '?', '?', '?'], ['?', 'warm', '?', '?', '?', '?'], ['?', '?', '?', '?', '?', '?'], ['?', '?', '?', '?', '?', '?'], ['?', '?', '?', '?', '?', '?'], ['?', '?', '?', '?', '?', 'same']] \n",
      "\n",
      "4  -> positive instance => change specific_h but general_h remains same\n",
      "high  !=  ?\n",
      "cool  !=  warm\n",
      "change  !=  same\n",
      "['sunny' 'warm' '?' 'strong' '?' '?']\n",
      "[['sunny', '?', '?', '?', '?', '?'], ['?', 'warm', '?', '?', '?', '?'], ['?', '?', '?', '?', '?', '?'], ['?', '?', '?', '?', '?', '?'], ['?', '?', '?', '?', '?', '?'], ['?', '?', '?', '?', '?', '?']] \n",
      "\n",
      "Final specific_h:  ['sunny' 'warm' '?' 'strong' '?' '?']\n",
      "Final general_h:  [['sunny', '?', '?', '?', '?', '?'], ['?', 'warm', '?', '?', '?', '?']]\n"
     ]
    }
   ],
   "source": [
    "s_final, g_final = learn(concepts, target)\n",
    "\n",
    "print(\"Final specific_h: \", s_final)\n",
    "print(\"Final general_h: \", g_final)"
   ]
  }
 ],
 "metadata": {
  "kernelspec": {
   "display_name": "Python 3.10.7 64-bit",
   "language": "python",
   "name": "python3"
  },
  "language_info": {
   "codemirror_mode": {
    "name": "ipython",
    "version": 3
   },
   "file_extension": ".py",
   "mimetype": "text/x-python",
   "name": "python",
   "nbconvert_exporter": "python",
   "pygments_lexer": "ipython3",
   "version": "3.10.7"
  },
  "orig_nbformat": 4,
  "vscode": {
   "interpreter": {
    "hash": "ae98a2d7cb2d0c57cfbbd7d812947b84707417a4702cc81eb8890c9224ec2f85"
   }
  }
 },
 "nbformat": 4,
 "nbformat_minor": 2
}
