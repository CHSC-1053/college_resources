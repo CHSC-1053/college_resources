{
 "cells": [
  {
   "cell_type": "code",
   "execution_count": 1,
   "metadata": {},
   "outputs": [
    {
     "name": "stdout",
     "output_type": "stream",
     "text": [
      "     Outlook Temperature Humidity    Wind Play Tennis\n",
      "0      Sunny         Hot     High    Weak          no\n",
      "1      Sunny         Hot     High  Strong          no\n",
      "2   Overcast         Hot     High    Weak         yes\n",
      "3       Rain        Mild     High    Weak         yes\n",
      "4       Rain        Cool   Normal    Weak         yes\n",
      "5       Rain        Cool   Normal  Strong          no\n",
      "6   Overcast        Cool   Normal  Strong         yes\n",
      "7      Sunny        Mild     High    Weak          no\n",
      "8      Sunny        Cool   Normal    Weak         yes\n",
      "9       Rain        Mild   Normal    Weak         yes\n",
      "10     Sunny        Mild   Normal  Strong         yes\n",
      "11  Overcast        Mild     High  Strong         yes\n",
      "12  Overcast         Hot   Normal    Weak         yes\n",
      "13      Rain        Mild     High  Strong          no\n",
      "{'Temperature': {'Mild': {'Outlook': {'Sunny': {'Humidity': {'Normal': 'yes'}}}}}}\n"
     ]
    }
   ],
   "source": [
    "import numpy as np\n",
    "import pandas as pd\n",
    "eps = np.finfo(float).eps\n",
    "data=pd.read_csv(\"PlayTennis.csv\")\n",
    "print(data)\n",
    "\n",
    "# Entropy of the target attribute values\n",
    "def find_entropy(df):\n",
    "  target = df.keys()[-1]\n",
    "  entropy =0\n",
    "  values = df[target].unique()\n",
    "  for value in values:\n",
    "    fraction = df[target].value_counts()[value] / len(df[target])\n",
    "    entropy += -fraction * np.log2(fraction)\n",
    "  return entropy\n",
    "  \n",
    "# Entropy of attribute values\n",
    "def find_entropy_attribute(df,attribute):\n",
    "  target = df.keys()[-1]\n",
    "  target_variables = df[target].unique()\n",
    "  variables = df[attribute].unique()\n",
    "  entropy2 = 0\n",
    "  for variable in variables:\n",
    "    entropy = 0\n",
    "  for target_variable in target_variables:\n",
    "    num = len(df[attribute][df[attribute] == variable][df[target] == target_variable])\n",
    "    den = len(df[attribute][df[attribute] == variable])\n",
    "    fraction = num / (den + eps)\n",
    "    entropy += -fraction * np.log2(fraction + eps)\n",
    "  fraction2 = den /len(df)\n",
    "  entropy2 += -fraction2 * entropy\n",
    "  return abs(entropy2)\n",
    "\n",
    "def bestClassifier(df):\n",
    "  IG = []\n",
    "  for key in df.keys()[:-1]:\n",
    "    IG.append(find_entropy(df) - find_entropy_attribute(df, key))\n",
    "  return df.keys()[:-1][np.argmax(IG)]\n",
    "\n",
    "def get_subtable(df,node,value):\n",
    "  return df[df[node] == value].reset_index(drop=True)\n",
    "\n",
    "def ID3split(df, tree=None):\n",
    "  target = df.keys()[-1]\n",
    "  node = bestClassifier(df)\n",
    "  attributeValues = np.unique(df[node])\n",
    "  if tree is None:\n",
    "    tree = {}\n",
    "    tree[node] = {}\n",
    "  for value in attributeValues:\n",
    "    subtable = get_subtable(df, node, value)\n",
    "    targetValues, counts = np.unique(subtable[target], return_counts=True)\n",
    "  if len(counts) == 1:\n",
    "    tree[node][value] = targetValues[0]\n",
    "  else:\n",
    "    tree[node][value] = ID3split(subtable)\n",
    "  return tree\n",
    "\n",
    "decisionTree = ID3split(data)\n",
    "print(decisionTree)"
   ]
  }
 ],
 "metadata": {
  "kernelspec": {
   "display_name": "Python 3.10.7 64-bit",
   "language": "python",
   "name": "python3"
  },
  "language_info": {
   "codemirror_mode": {
    "name": "ipython",
    "version": 3
   },
   "file_extension": ".py",
   "mimetype": "text/x-python",
   "name": "python",
   "nbconvert_exporter": "python",
   "pygments_lexer": "ipython3",
   "version": "3.10.7"
  },
  "orig_nbformat": 4,
  "vscode": {
   "interpreter": {
    "hash": "ae98a2d7cb2d0c57cfbbd7d812947b84707417a4702cc81eb8890c9224ec2f85"
   }
  }
 },
 "nbformat": 4,
 "nbformat_minor": 2
}
