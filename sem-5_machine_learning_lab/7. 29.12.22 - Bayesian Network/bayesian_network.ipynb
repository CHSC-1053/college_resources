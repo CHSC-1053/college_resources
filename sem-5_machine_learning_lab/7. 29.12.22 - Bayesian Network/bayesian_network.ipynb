{
  "cells": [
    {
      "cell_type": "code",
      "execution_count": 13,
      "metadata": {
        "colab": {
          "base_uri": "https://localhost:8080/",
          "height": 0
        },
        "id": "tW1BB2Qjz4y2",
        "outputId": "fe95c3f5-8266-4b8f-8bd1-4f8630518ac1"
      },
      "outputs": [],
      "source": [
        "# get_ipython().system('pip install pgmpy')\n",
        "# get_ipython().system('pip install bayespy')\n",
        "from pgmpy.models import BayesianNetwork #BayesianModel has been renamed to BayesianNetwork. Please use BayesianNetwork class, BayesianModel will be removed in future.\n",
        "from pgmpy.inference import VariableElimination\n",
        "from pgmpy.estimators import MaximumLikelihoodEstimator\n",
        "import numpy as np\n",
        "import pandas as pd\n",
        "import csv "
      ]
    },
    {
      "cell_type": "code",
      "execution_count": 14,
      "metadata": {
        "colab": {
          "base_uri": "https://localhost:8080/",
          "height": 0
        },
        "id": "iLwDnQEJ1j0H",
        "outputId": "2deaabe2-a54b-4492-9c93-8e42ecc2883e"
      },
      "outputs": [
        {
          "name": "stdout",
          "output_type": "stream",
          "text": [
            "     age  gender  cp  trestbps  chol  fbs  restecg  thalach  exang  oldpeak  \\\n",
            "0     63       1   1       145   233    1        2      150      0      2.3   \n",
            "1     67       1   4       160   286    0        2      108      1      1.5   \n",
            "2     67       1   4       120   229    0        2      129      1      2.6   \n",
            "3     37       1   3       130   250    0        0      187      0      3.5   \n",
            "4     41       0   2       130   204    0        2      172      0      1.4   \n",
            "..   ...     ...  ..       ...   ...  ...      ...      ...    ...      ...   \n",
            "298   45       1   1       110   264    0        0      132      0      1.2   \n",
            "299   68       1   4       144   193    1        0      141      0      3.4   \n",
            "300   57       1   4       130   131    0        0      115      1      1.2   \n",
            "301   57       0   2       130   236    0        2      174      0      0.0   \n",
            "302   38       1   3       138   175    0        0      173      0      0.0   \n",
            "\n",
            "     slope   ca thal  heartdisease  \n",
            "0        3    0    6             0  \n",
            "1        2    3    3             2  \n",
            "2        2    2    7             1  \n",
            "3        3    0    3             0  \n",
            "4        1    0    3             0  \n",
            "..     ...  ...  ...           ...  \n",
            "298      2    0    7             1  \n",
            "299      2    2    7             2  \n",
            "300      2    1    7             3  \n",
            "301      2    1    3             1  \n",
            "302      1  NaN    3             0  \n",
            "\n",
            "[303 rows x 14 columns]\n"
          ]
        }
      ],
      "source": [
        "heartDisease = pd.read_csv('heart.csv')\n",
        "heartDisease = heartDisease.replace('?',np.nan)\n",
        "print(heartDisease)"
      ]
    },
    {
      "cell_type": "code",
      "execution_count": 15,
      "metadata": {
        "colab": {
          "base_uri": "https://localhost:8080/",
          "height": 0
        },
        "id": "grhb79Un1ngm",
        "outputId": "cebda333-da14-4883-e44a-67c66e87fbb6"
      },
      "outputs": [
        {
          "name": "stdout",
          "output_type": "stream",
          "text": [
            "Sample instances from the dataset are given below:\n",
            "   age  gender  cp  trestbps  chol  fbs  restecg  thalach  exang  oldpeak  \\\n",
            "0   63       1   1       145   233    1        2      150      0      2.3   \n",
            "1   67       1   4       160   286    0        2      108      1      1.5   \n",
            "2   67       1   4       120   229    0        2      129      1      2.6   \n",
            "3   37       1   3       130   250    0        0      187      0      3.5   \n",
            "4   41       0   2       130   204    0        2      172      0      1.4   \n",
            "\n",
            "   slope ca thal  heartdisease  \n",
            "0      3  0    6             0  \n",
            "1      2  3    3             2  \n",
            "2      2  2    7             1  \n",
            "3      3  0    3             0  \n",
            "4      1  0    3             0  \n"
          ]
        }
      ],
      "source": [
        "print('Sample instances from the dataset are given below:')\n",
        "print(heartDisease.head())\n"
      ]
    },
    {
      "cell_type": "code",
      "execution_count": 16,
      "metadata": {
        "colab": {
          "base_uri": "https://localhost:8080/",
          "height": 0
        },
        "id": "740bAQVA1qEU",
        "outputId": "0e92dbb7-ac22-4bc3-95b6-b19e48cccd2d"
      },
      "outputs": [
        {
          "name": "stdout",
          "output_type": "stream",
          "text": [
            "\n",
            "Attributes and datatypes\n",
            "age               int64\n",
            "gender            int64\n",
            "cp                int64\n",
            "trestbps          int64\n",
            "chol              int64\n",
            "fbs               int64\n",
            "restecg           int64\n",
            "thalach           int64\n",
            "exang             int64\n",
            "oldpeak         float64\n",
            "slope             int64\n",
            "ca               object\n",
            "thal             object\n",
            "heartdisease      int64\n",
            "dtype: object\n"
          ]
        }
      ],
      "source": [
        "print('\\nAttributes and datatypes')\n",
        "print(heartDisease.dtypes)"
      ]
    },
    {
      "cell_type": "code",
      "execution_count": 17,
      "metadata": {
        "id": "PSQ1qv1n1s60"
      },
      "outputs": [],
      "source": [
        "model= BayesianNetwork([('age','heartdisease'),('gender','heartdisease'),('exang','heartdisease'),('cp','heartdisease'),('heartdisease','restecg'),('heartdisease','chol')])\n",
        "model.fit(heartDisease,estimator=MaximumLikelihoodEstimator)"
      ]
    },
    {
      "cell_type": "code",
      "execution_count": 18,
      "metadata": {
        "colab": {
          "base_uri": "https://localhost:8080/",
          "height": 0
        },
        "id": "66_oFgkP1vYx",
        "outputId": "e1e8ef03-b961-4d41-8cd7-6c628a463d1a"
      },
      "outputs": [
        {
          "name": "stdout",
          "output_type": "stream",
          "text": [
            "\n",
            "Learning CPD using Maximum likelihood estimators\n",
            "\n",
            "Inferencing with Bayesian Network:\n",
            "\n",
            "1. Probability of HeartDisease given evidence= restecg\n",
            "+-----------------+---------------------+\n",
            "| heartdisease    |   phi(heartdisease) |\n",
            "+=================+=====================+\n",
            "| heartdisease(0) |              0.1012 |\n",
            "+-----------------+---------------------+\n",
            "| heartdisease(1) |              0.0000 |\n",
            "+-----------------+---------------------+\n",
            "| heartdisease(2) |              0.2392 |\n",
            "+-----------------+---------------------+\n",
            "| heartdisease(3) |              0.2015 |\n",
            "+-----------------+---------------------+\n",
            "| heartdisease(4) |              0.4581 |\n",
            "+-----------------+---------------------+\n"
          ]
        }
      ],
      "source": [
        "print('\\nLearning CPD using Maximum likelihood estimators')\n",
        "print('\\nInferencing with Bayesian Network:')\n",
        "HeartDiseasetest_infer = VariableElimination(model)\n",
        "print('\\n1. Probability of HeartDisease given evidence= restecg')\n",
        "q1=HeartDiseasetest_infer.query(variables=['heartdisease'],evidence={'restecg':1})\n",
        "print(q1)"
      ]
    },
    {
      "cell_type": "code",
      "execution_count": 19,
      "metadata": {
        "colab": {
          "base_uri": "https://localhost:8080/",
          "height": 0
        },
        "id": "rXy7-R2p1z7O",
        "outputId": "63d29c41-fd49-499d-c6b0-6856c36bcec6"
      },
      "outputs": [
        {
          "name": "stdout",
          "output_type": "stream",
          "text": [
            "\n",
            "2. Probability of HeartDisease given evidence= cp \n",
            "+-----------------+---------------------+\n",
            "| heartdisease    |   phi(heartdisease) |\n",
            "+=================+=====================+\n",
            "| heartdisease(0) |              0.3610 |\n",
            "+-----------------+---------------------+\n",
            "| heartdisease(1) |              0.2159 |\n",
            "+-----------------+---------------------+\n",
            "| heartdisease(2) |              0.1373 |\n",
            "+-----------------+---------------------+\n",
            "| heartdisease(3) |              0.1537 |\n",
            "+-----------------+---------------------+\n",
            "| heartdisease(4) |              0.1321 |\n",
            "+-----------------+---------------------+\n"
          ]
        }
      ],
      "source": [
        "print('\\n2. Probability of HeartDisease given evidence= cp ')\n",
        "q2=HeartDiseasetest_infer.query(variables=['heartdisease'],evidence={'cp':2})\n",
        "print(q2)"
      ]
    }
  ],
  "metadata": {
    "colab": {
      "provenance": []
    },
    "kernelspec": {
      "display_name": "Python 3",
      "language": "python",
      "name": "python3"
    },
    "language_info": {
      "codemirror_mode": {
        "name": "ipython",
        "version": 3
      },
      "file_extension": ".py",
      "mimetype": "text/x-python",
      "name": "python",
      "nbconvert_exporter": "python",
      "pygments_lexer": "ipython3",
      "version": "3.10.7"
    },
    "vscode": {
      "interpreter": {
        "hash": "ae98a2d7cb2d0c57cfbbd7d812947b84707417a4702cc81eb8890c9224ec2f85"
      }
    }
  },
  "nbformat": 4,
  "nbformat_minor": 0
}
