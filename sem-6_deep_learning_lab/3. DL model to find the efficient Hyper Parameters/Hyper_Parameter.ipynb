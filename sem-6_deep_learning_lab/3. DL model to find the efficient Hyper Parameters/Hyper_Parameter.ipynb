{
  "nbformat": 4,
  "nbformat_minor": 0,
  "metadata": {
    "colab": {
      "provenance": []
    },
    "kernelspec": {
      "name": "python3",
      "display_name": "Python 3"
    },
    "language_info": {
      "name": "python"
    }
  },
  "cells": [
    {
      "cell_type": "code",
      "execution_count": null,
      "metadata": {
        "colab": {
          "base_uri": "https://localhost:8080/"
        },
        "id": "__ScWphF1cRB",
        "outputId": "3fc2ada6-5861-47db-826e-e4c28f36cef0"
      },
      "outputs": [
        {
          "output_type": "execute_result",
          "data": {
            "text/plain": [
              "((60000, 28, 28), (60000,), (10000, 28, 28), (10000,))"
            ]
          },
          "metadata": {},
          "execution_count": 2
        }
      ],
      "source": [
        "from tensorflow.keras.datasets import mnist\n",
        "(X_train, y_train), (X_test, y_test) = mnist.load_data()\n",
        "X_train.shape, y_train.shape, X_test.shape, y_test.shape"
      ]
    },
    {
      "cell_type": "code",
      "source": [
        "import matplotlib.pyplot as plt\n",
        "plt.imshow(X_train[7])"
      ],
      "metadata": {
        "colab": {
          "base_uri": "https://localhost:8080/",
          "height": 447
        },
        "id": "k_fa1Mig2HSN",
        "outputId": "718527f9-5ffe-49e3-e6f6-b05437cf992f"
      },
      "execution_count": null,
      "outputs": [
        {
          "output_type": "execute_result",
          "data": {
            "text/plain": [
              "<matplotlib.image.AxesImage at 0x7f6fcbe7b3d0>"
            ]
          },
          "metadata": {},
          "execution_count": 25
        },
        {
          "output_type": "display_data",
          "data": {
            "text/plain": [
              "<Figure size 640x480 with 1 Axes>"
            ],
            "image/png": "[encoded data removed]"
          },
          "metadata": {}
        }
      ]
    },
    {
      "cell_type": "code",
      "source": [
        "from tensorflow.keras.optimizers import Adam\n",
        "opt_1 = Adam(learning_rate=0.001)"
      ],
      "metadata": {
        "id": "T_7bwvjd2PCv"
      },
      "execution_count": null,
      "outputs": []
    },
    {
      "cell_type": "code",
      "source": [
        "from tensorflow.keras import layers\n",
        "from tensorflow.keras.models import Sequential\n",
        "model_1 = Sequential([layers.Input((28, 28)),\n",
        "                     layers.Lambda(lambda x: x / 255),\n",
        "                     layers.Flatten(),\n",
        "                     layers.Dense(10, activation='softmax')])\n",
        "model_1.compile(optimizer=opt_1, loss='sparse_categorical_crossentropy', metrics=['accuracy'])\n",
        "model_1.fit(x=X_train, y=y_train, validation_data=(X_test, y_test), epochs=10)"
      ],
      "metadata": {
        "colab": {
          "base_uri": "https://localhost:8080/"
        },
        "id": "tm4LnrJU2Wxv",
        "outputId": "60d203e3-06f3-4d87-c154-bf802e2cb95c"
      },
      "execution_count": null,
      "outputs": [
        {
          "output_type": "stream",
          "name": "stdout",
          "text": [
            "Epoch 1/10\n",
            "1875/1875 [==============================] - 4s 2ms/step - loss: 0.4674 - accuracy: 0.8769 - val_loss: 0.3134 - val_accuracy: 0.9125\n",
            "Epoch 2/10\n",
            "1875/1875 [==============================] - 4s 2ms/step - loss: 0.3041 - accuracy: 0.9146 - val_loss: 0.2806 - val_accuracy: 0.9217\n",
            "Epoch 3/10\n",
            "1875/1875 [==============================] - 4s 2ms/step - loss: 0.2840 - accuracy: 0.9203 - val_loss: 0.2726 - val_accuracy: 0.9240\n",
            "Epoch 4/10\n",
            "1875/1875 [==============================] - 4s 2ms/step - loss: 0.2731 - accuracy: 0.9235 - val_loss: 0.2733 - val_accuracy: 0.9232\n",
            "Epoch 5/10\n",
            "1875/1875 [==============================] - 4s 2ms/step - loss: 0.2670 - accuracy: 0.9252 - val_loss: 0.2670 - val_accuracy: 0.9269\n",
            "Epoch 6/10\n",
            "1875/1875 [==============================] - 4s 2ms/step - loss: 0.2623 - accuracy: 0.9262 - val_loss: 0.2661 - val_accuracy: 0.9264\n",
            "Epoch 7/10\n",
            "1875/1875 [==============================] - 4s 2ms/step - loss: 0.2585 - accuracy: 0.9283 - val_loss: 0.2672 - val_accuracy: 0.9265\n",
            "Epoch 8/10\n",
            "1875/1875 [==============================] - 4s 2ms/step - loss: 0.2555 - accuracy: 0.9288 - val_loss: 0.2650 - val_accuracy: 0.9277\n",
            "Epoch 9/10\n",
            "1875/1875 [==============================] - 4s 2ms/step - loss: 0.2530 - accuracy: 0.9298 - val_loss: 0.2661 - val_accuracy: 0.9272\n",
            "Epoch 10/10\n",
            "1875/1875 [==============================] - 4s 2ms/step - loss: 0.2514 - accuracy: 0.9309 - val_loss: 0.2622 - val_accuracy: 0.9275\n"
          ]
        },
        {
          "output_type": "execute_result",
          "data": {
            "text/plain": [
              "<keras.callbacks.History at 0x7f6fe0796f10>"
            ]
          },
          "metadata": {},
          "execution_count": 5
        }
      ]
    },
    {
      "cell_type": "code",
      "source": [
        "#model 2\n",
        "opt_2 = Adam(learning_rate=0.001)\n",
        "model_2 = Sequential([layers.Input((28, 28)),\n",
        "                     layers.Lambda(lambda x: x / 255),\n",
        "                     layers.Flatten(),\n",
        "                     layers.Dense(32, activation='relu'),\n",
        "                     layers.Dense(10, activation='softmax')])\n",
        "model_2.compile(optimizer=opt_2, loss='sparse_categorical_crossentropy', metrics=['accuracy'])\n",
        "model_2.fit(x=X_train, y=y_train, validation_data=(X_test, y_test), epochs=10)"
      ],
      "metadata": {
        "colab": {
          "base_uri": "https://localhost:8080/"
        },
        "id": "H-4M6fHd2ylH",
        "outputId": "8e953f72-23cc-4e87-ec5a-58aeb984eef0"
      },
      "execution_count": null,
      "outputs": [
        {
          "output_type": "stream",
          "name": "stdout",
          "text": [
            "Epoch 1/10\n",
            "1875/1875 [==============================] - 5s 2ms/step - loss: 0.3435 - accuracy: 0.9062 - val_loss: 0.2010 - val_accuracy: 0.9397\n",
            "Epoch 2/10\n",
            "1875/1875 [==============================] - 5s 2ms/step - loss: 0.1799 - accuracy: 0.9480 - val_loss: 0.1580 - val_accuracy: 0.9507\n",
            "Epoch 3/10\n",
            "1875/1875 [==============================] - 4s 2ms/step - loss: 0.1437 - accuracy: 0.9579 - val_loss: 0.1442 - val_accuracy: 0.9545\n",
            "Epoch 4/10\n",
            "1875/1875 [==============================] - 4s 2ms/step - loss: 0.1231 - accuracy: 0.9637 - val_loss: 0.1258 - val_accuracy: 0.9633\n",
            "Epoch 5/10\n",
            "1875/1875 [==============================] - 5s 2ms/step - loss: 0.1082 - accuracy: 0.9681 - val_loss: 0.1216 - val_accuracy: 0.9624\n",
            "Epoch 6/10\n",
            "1875/1875 [==============================] - 4s 2ms/step - loss: 0.0965 - accuracy: 0.9717 - val_loss: 0.1191 - val_accuracy: 0.9640\n",
            "Epoch 7/10\n",
            "1875/1875 [==============================] - 5s 2ms/step - loss: 0.0890 - accuracy: 0.9734 - val_loss: 0.1065 - val_accuracy: 0.9682\n",
            "Epoch 8/10\n",
            "1875/1875 [==============================] - 5s 2ms/step - loss: 0.0812 - accuracy: 0.9754 - val_loss: 0.1095 - val_accuracy: 0.9672\n",
            "Epoch 9/10\n",
            "1875/1875 [==============================] - 4s 2ms/step - loss: 0.0748 - accuracy: 0.9768 - val_loss: 0.1040 - val_accuracy: 0.9695\n",
            "Epoch 10/10\n",
            "1875/1875 [==============================] - 5s 3ms/step - loss: 0.0689 - accuracy: 0.9782 - val_loss: 0.1036 - val_accuracy: 0.9697\n"
          ]
        },
        {
          "output_type": "execute_result",
          "data": {
            "text/plain": [
              "<keras.callbacks.History at 0x7f6fd4329f70>"
            ]
          },
          "metadata": {},
          "execution_count": 6
        }
      ]
    },
    {
      "cell_type": "code",
      "source": [
        "# Increasing Learning rate\n",
        "opt_2 = Adam(learning_rate=0.1)\n",
        "model_2 = Sequential([layers.Input((28, 28)),\n",
        "                     layers.Lambda(lambda x: x / 255),\n",
        "                     layers.Flatten(),\n",
        "                     layers.Dense(32, activation='relu'),\n",
        "                     layers.Dense(10, activation='softmax')])\n",
        "model_2.compile(optimizer=opt_2, loss='sparse_categorical_crossentropy', metrics=['accuracy'])\n",
        "model_2.fit(x=X_train, y=y_train, validation_data=(X_test, y_test), epochs=10)"
      ],
      "metadata": {
        "colab": {
          "base_uri": "https://localhost:8080/"
        },
        "id": "nYupAXqa3I8P",
        "outputId": "12bf81ee-596d-4ba5-ab6d-e98d4dd1e913"
      },
      "execution_count": null,
      "outputs": [
        {
          "output_type": "stream",
          "name": "stdout",
          "text": [
            "Epoch 1/10\n",
            "1875/1875 [==============================] - 5s 2ms/step - loss: 1.6480 - accuracy: 0.3729 - val_loss: 1.6686 - val_accuracy: 0.3668\n",
            "Epoch 2/10\n",
            "1875/1875 [==============================] - 5s 3ms/step - loss: 1.6408 - accuracy: 0.3738 - val_loss: 1.6205 - val_accuracy: 0.4116\n",
            "Epoch 3/10\n",
            "1875/1875 [==============================] - 4s 2ms/step - loss: 1.6797 - accuracy: 0.3611 - val_loss: 1.7189 - val_accuracy: 0.3365\n",
            "Epoch 4/10\n",
            "1875/1875 [==============================] - 4s 2ms/step - loss: 1.7329 - accuracy: 0.3456 - val_loss: 1.8216 - val_accuracy: 0.3008\n",
            "Epoch 5/10\n",
            "1875/1875 [==============================] - 5s 3ms/step - loss: 1.6840 - accuracy: 0.3465 - val_loss: 1.7548 - val_accuracy: 0.3203\n",
            "Epoch 6/10\n",
            "1875/1875 [==============================] - 4s 2ms/step - loss: 1.7518 - accuracy: 0.3321 - val_loss: 1.7483 - val_accuracy: 0.3315\n",
            "Epoch 7/10\n",
            "1875/1875 [==============================] - 4s 2ms/step - loss: 1.7625 - accuracy: 0.3333 - val_loss: 1.8360 - val_accuracy: 0.3380\n",
            "Epoch 8/10\n",
            "1875/1875 [==============================] - 7s 4ms/step - loss: 1.7444 - accuracy: 0.3342 - val_loss: 1.8051 - val_accuracy: 0.3207\n",
            "Epoch 9/10\n",
            "1875/1875 [==============================] - 4s 2ms/step - loss: 1.7317 - accuracy: 0.3350 - val_loss: 1.9628 - val_accuracy: 0.3447\n",
            "Epoch 10/10\n",
            "1875/1875 [==============================] - 4s 2ms/step - loss: 1.7815 - accuracy: 0.3303 - val_loss: 1.8733 - val_accuracy: 0.3538\n"
          ]
        },
        {
          "output_type": "execute_result",
          "data": {
            "text/plain": [
              "<keras.callbacks.History at 0x7f6fd6e8a190>"
            ]
          },
          "metadata": {},
          "execution_count": 7
        }
      ]
    },
    {
      "cell_type": "code",
      "source": [
        "#Model 3\n",
        "opt_3 = Adam(learning_rate=0.00001)\n",
        "model_3 = Sequential([layers.Input((28, 28)),\n",
        "                     layers.Lambda(lambda x: x / 255),\n",
        "                     layers.Flatten(),\n",
        "                     layers.Dense(32, activation='relu'),\n",
        "                     layers.Dense(10, activation='softmax')])\n",
        "model_3.compile(optimizer=opt_3, loss='sparse_categorical_crossentropy', metrics=['accuracy'])\n",
        "model_3.fit(x=X_train, y=y_train, validation_data=(X_test, y_test), epochs=10)"
      ],
      "metadata": {
        "colab": {
          "base_uri": "https://localhost:8080/"
        },
        "id": "6KqebNGm3q4f",
        "outputId": "b7387f60-bc91-456d-9b03-364d6d41d690"
      },
      "execution_count": null,
      "outputs": [
        {
          "output_type": "stream",
          "name": "stdout",
          "text": [
            "Epoch 1/10\n",
            "1875/1875 [==============================] - 5s 2ms/step - loss: 2.0235 - accuracy: 0.3721 - val_loss: 1.6943 - val_accuracy: 0.5561\n",
            "Epoch 2/10\n",
            "1875/1875 [==============================] - 4s 2ms/step - loss: 1.4346 - accuracy: 0.6731 - val_loss: 1.1826 - val_accuracy: 0.7577\n",
            "Epoch 3/10\n",
            "1875/1875 [==============================] - 5s 2ms/step - loss: 1.0416 - accuracy: 0.7856 - val_loss: 0.8896 - val_accuracy: 0.8166\n",
            "Epoch 4/10\n",
            "1875/1875 [==============================] - 4s 2ms/step - loss: 0.8170 - accuracy: 0.8234 - val_loss: 0.7190 - val_accuracy: 0.8405\n",
            "Epoch 5/10\n",
            "1875/1875 [==============================] - 4s 2ms/step - loss: 0.6815 - accuracy: 0.8442 - val_loss: 0.6146 - val_accuracy: 0.8571\n",
            "Epoch 6/10\n",
            "1875/1875 [==============================] - 5s 2ms/step - loss: 0.5956 - accuracy: 0.8582 - val_loss: 0.5457 - val_accuracy: 0.8710\n",
            "Epoch 7/10\n",
            "1875/1875 [==============================] - 4s 2ms/step - loss: 0.5373 - accuracy: 0.8686 - val_loss: 0.4974 - val_accuracy: 0.8818\n",
            "Epoch 8/10\n",
            "1875/1875 [==============================] - 4s 2ms/step - loss: 0.4953 - accuracy: 0.8758 - val_loss: 0.4621 - val_accuracy: 0.8871\n",
            "Epoch 9/10\n",
            "1875/1875 [==============================] - 4s 2ms/step - loss: 0.4638 - accuracy: 0.8816 - val_loss: 0.4343 - val_accuracy: 0.8913\n",
            "Epoch 10/10\n",
            "1875/1875 [==============================] - 4s 2ms/step - loss: 0.4390 - accuracy: 0.8866 - val_loss: 0.4129 - val_accuracy: 0.8963\n"
          ]
        },
        {
          "output_type": "execute_result",
          "data": {
            "text/plain": [
              "<keras.callbacks.History at 0x7f6fd6e19f10>"
            ]
          },
          "metadata": {},
          "execution_count": 8
        }
      ]
    },
    {
      "cell_type": "code",
      "source": [
        "#Model 4\n",
        "opt_4 = Adam(learning_rate=0.001)\n",
        "model_4 = Sequential([layers.Input((28, 28)),\n",
        "                     layers.Lambda(lambda x: x / 255),\n",
        "                     layers.Flatten(),\n",
        "                     layers.Dense(128, activation='relu'),\n",
        "                     layers.Dense(128, activation='relu'),\n",
        "                     layers.Dense(10, activation='softmax')])\n",
        "model_4.compile(optimizer=opt_4, loss='sparse_categorical_crossentropy', metrics=['accuracy'])\n",
        "model_4.fit(x=X_train, y=y_train, validation_data=(X_test, y_test), epochs=15)"
      ],
      "metadata": {
        "colab": {
          "base_uri": "https://localhost:8080/"
        },
        "id": "gvWY8MkY3_kf",
        "outputId": "6f5b50fa-3481-4de6-e084-fc3271a1e8c1"
      },
      "execution_count": null,
      "outputs": [
        {
          "output_type": "stream",
          "name": "stdout",
          "text": [
            "Epoch 1/15\n",
            "1875/1875 [==============================] - 9s 4ms/step - loss: 0.2253 - accuracy: 0.9338 - val_loss: 0.1202 - val_accuracy: 0.9619\n",
            "Epoch 2/15\n",
            "1875/1875 [==============================] - 7s 4ms/step - loss: 0.0973 - accuracy: 0.9701 - val_loss: 0.1026 - val_accuracy: 0.9631\n",
            "Epoch 3/15\n",
            "1875/1875 [==============================] - 8s 4ms/step - loss: 0.0674 - accuracy: 0.9793 - val_loss: 0.0781 - val_accuracy: 0.9749\n",
            "Epoch 4/15\n",
            "1875/1875 [==============================] - 8s 4ms/step - loss: 0.0510 - accuracy: 0.9838 - val_loss: 0.1194 - val_accuracy: 0.9645\n",
            "Epoch 5/15\n",
            "1875/1875 [==============================] - 7s 4ms/step - loss: 0.0422 - accuracy: 0.9863 - val_loss: 0.0857 - val_accuracy: 0.9743\n",
            "Epoch 6/15\n",
            "1875/1875 [==============================] - 8s 4ms/step - loss: 0.0329 - accuracy: 0.9896 - val_loss: 0.0764 - val_accuracy: 0.9765\n",
            "Epoch 7/15\n",
            "1875/1875 [==============================] - 7s 4ms/step - loss: 0.0278 - accuracy: 0.9908 - val_loss: 0.0747 - val_accuracy: 0.9805\n",
            "Epoch 8/15\n",
            "1875/1875 [==============================] - 8s 4ms/step - loss: 0.0233 - accuracy: 0.9927 - val_loss: 0.0792 - val_accuracy: 0.9782\n",
            "Epoch 9/15\n",
            "1875/1875 [==============================] - 8s 4ms/step - loss: 0.0208 - accuracy: 0.9932 - val_loss: 0.0802 - val_accuracy: 0.9799\n",
            "Epoch 10/15\n",
            "1875/1875 [==============================] - 7s 4ms/step - loss: 0.0184 - accuracy: 0.9936 - val_loss: 0.0798 - val_accuracy: 0.9811\n",
            "Epoch 11/15\n",
            "1875/1875 [==============================] - 8s 4ms/step - loss: 0.0160 - accuracy: 0.9945 - val_loss: 0.0893 - val_accuracy: 0.9790\n",
            "Epoch 12/15\n",
            "1875/1875 [==============================] - 7s 4ms/step - loss: 0.0154 - accuracy: 0.9950 - val_loss: 0.1074 - val_accuracy: 0.9776\n",
            "Epoch 13/15\n",
            "1875/1875 [==============================] - 8s 4ms/step - loss: 0.0146 - accuracy: 0.9949 - val_loss: 0.0985 - val_accuracy: 0.9795\n",
            "Epoch 14/15\n",
            "1875/1875 [==============================] - 8s 4ms/step - loss: 0.0131 - accuracy: 0.9961 - val_loss: 0.1114 - val_accuracy: 0.9786\n",
            "Epoch 15/15\n",
            "1875/1875 [==============================] - 8s 4ms/step - loss: 0.0125 - accuracy: 0.9954 - val_loss: 0.1111 - val_accuracy: 0.9784\n"
          ]
        },
        {
          "output_type": "execute_result",
          "data": {
            "text/plain": [
              "<keras.callbacks.History at 0x7f6fcbe6bf10>"
            ]
          },
          "metadata": {},
          "execution_count": 26
        }
      ]
    },
    {
      "cell_type": "code",
      "source": [
        "#model 5\n",
        "from tensorflow.keras.regularizers import L2\n",
        "opt_5 = Adam(learning_rate=0.001)\n",
        "model_5 = Sequential([layers.Input((28, 28)),\n",
        "                     layers.Lambda(lambda x: x / 255),\n",
        "                     layers.Flatten(),\n",
        "                     layers.Dense(128, activation='relu', kernel_regularizer=L2(0.001)),\n",
        "                     layers.Dropout(0.05),\n",
        "                     layers.Dense(128, activation='relu', kernel_regularizer=L2(0.001)),\n",
        "                     layers.Dropout(0.05),\n",
        "                     layers.Dense(128, activation='relu', kernel_regularizer=L2(0.001)),\n",
        "                     layers.Dropout(0.05),\n",
        "                     layers.Dense(10, activation='softmax')])\n",
        "model_5.compile(optimizer=opt_5, loss='sparse_categorical_crossentropy', metrics=['accuracy'])\n",
        "model_5.fit(x=X_train, y=y_train, validation_data=(X_test, y_test), epochs=10)"
      ],
      "metadata": {
        "colab": {
          "base_uri": "https://localhost:8080/"
        },
        "id": "mpIXIZb44ssa",
        "outputId": "7f2d6631-efd6-4d64-c90f-44e669ee1b87"
      },
      "execution_count": null,
      "outputs": [
        {
          "output_type": "stream",
          "name": "stdout",
          "text": [
            "Epoch 1/10\n",
            "1875/1875 [==============================] - 14s 7ms/step - loss: 0.5174 - accuracy: 0.9207 - val_loss: 0.3285 - val_accuracy: 0.9555\n",
            "Epoch 2/10\n",
            "1875/1875 [==============================] - 10s 6ms/step - loss: 0.3034 - accuracy: 0.9568 - val_loss: 0.2731 - val_accuracy: 0.9608\n",
            "Epoch 3/10\n",
            "1875/1875 [==============================] - 13s 7ms/step - loss: 0.2604 - accuracy: 0.9614 - val_loss: 0.2290 - val_accuracy: 0.9709\n",
            "Epoch 4/10\n",
            "1875/1875 [==============================] - 10s 6ms/step - loss: 0.2442 - accuracy: 0.9636 - val_loss: 0.2243 - val_accuracy: 0.9691\n",
            "Epoch 5/10\n",
            "1875/1875 [==============================] - 10s 5ms/step - loss: 0.2304 - accuracy: 0.9657 - val_loss: 0.2105 - val_accuracy: 0.9722\n",
            "Epoch 6/10\n",
            "1875/1875 [==============================] - 10s 5ms/step - loss: 0.2260 - accuracy: 0.9665 - val_loss: 0.2232 - val_accuracy: 0.9685\n",
            "Epoch 7/10\n",
            "1875/1875 [==============================] - 10s 5ms/step - loss: 0.2199 - accuracy: 0.9674 - val_loss: 0.1956 - val_accuracy: 0.9737\n",
            "Epoch 8/10\n",
            "1875/1875 [==============================] - 10s 6ms/step - loss: 0.2132 - accuracy: 0.9673 - val_loss: 0.2045 - val_accuracy: 0.9711\n",
            "Epoch 9/10\n",
            "1875/1875 [==============================] - 9s 5ms/step - loss: 0.2119 - accuracy: 0.9677 - val_loss: 0.2141 - val_accuracy: 0.9663\n",
            "Epoch 10/10\n",
            "1875/1875 [==============================] - 11s 6ms/step - loss: 0.2076 - accuracy: 0.9682 - val_loss: 0.2016 - val_accuracy: 0.9695\n"
          ]
        },
        {
          "output_type": "execute_result",
          "data": {
            "text/plain": [
              "<keras.callbacks.History at 0x7f6fd6a8de20>"
            ]
          },
          "metadata": {},
          "execution_count": 10
        }
      ]
    },
    {
      "cell_type": "code",
      "source": [
        "model_5.fit(x=X_train, y=y_train, validation_data=(X_test, y_test), epochs=20)"
      ],
      "metadata": {
        "colab": {
          "base_uri": "https://localhost:8080/"
        },
        "id": "sILHcryY5Ihm",
        "outputId": "36643ce1-53af-472a-ab87-8f3130f4bb47"
      },
      "execution_count": null,
      "outputs": [
        {
          "output_type": "stream",
          "name": "stdout",
          "text": [
            "Epoch 1/20\n",
            "1875/1875 [==============================] - 10s 5ms/step - loss: 0.2049 - accuracy: 0.9689 - val_loss: 0.2044 - val_accuracy: 0.9680\n",
            "Epoch 2/20\n",
            "1875/1875 [==============================] - 11s 6ms/step - loss: 0.2020 - accuracy: 0.9698 - val_loss: 0.1982 - val_accuracy: 0.9707\n",
            "Epoch 3/20\n",
            "1875/1875 [==============================] - 10s 5ms/step - loss: 0.2031 - accuracy: 0.9689 - val_loss: 0.2056 - val_accuracy: 0.9683\n",
            "Epoch 4/20\n",
            "1875/1875 [==============================] - 8s 4ms/step - loss: 0.2005 - accuracy: 0.9690 - val_loss: 0.1840 - val_accuracy: 0.9745\n",
            "Epoch 5/20\n",
            "1875/1875 [==============================] - 10s 5ms/step - loss: 0.1985 - accuracy: 0.9697 - val_loss: 0.1888 - val_accuracy: 0.9729\n",
            "Epoch 6/20\n",
            "1875/1875 [==============================] - 10s 5ms/step - loss: 0.1979 - accuracy: 0.9703 - val_loss: 0.2013 - val_accuracy: 0.9697\n",
            "Epoch 7/20\n",
            "1875/1875 [==============================] - 9s 5ms/step - loss: 0.1977 - accuracy: 0.9695 - val_loss: 0.1806 - val_accuracy: 0.9731\n",
            "Epoch 8/20\n",
            "1875/1875 [==============================] - 10s 5ms/step - loss: 0.1973 - accuracy: 0.9694 - val_loss: 0.1846 - val_accuracy: 0.9723\n",
            "Epoch 9/20\n",
            "1875/1875 [==============================] - 10s 5ms/step - loss: 0.1958 - accuracy: 0.9697 - val_loss: 0.2034 - val_accuracy: 0.9676\n",
            "Epoch 10/20\n",
            "1875/1875 [==============================] - 10s 6ms/step - loss: 0.1968 - accuracy: 0.9693 - val_loss: 0.1877 - val_accuracy: 0.9710\n",
            "Epoch 11/20\n",
            "1875/1875 [==============================] - 10s 6ms/step - loss: 0.1966 - accuracy: 0.9693 - val_loss: 0.1866 - val_accuracy: 0.9743\n",
            "Epoch 12/20\n",
            "1875/1875 [==============================] - 9s 5ms/step - loss: 0.1943 - accuracy: 0.9697 - val_loss: 0.1844 - val_accuracy: 0.9731\n",
            "Epoch 13/20\n",
            "1875/1875 [==============================] - 10s 6ms/step - loss: 0.1955 - accuracy: 0.9699 - val_loss: 0.1748 - val_accuracy: 0.9768\n",
            "Epoch 14/20\n",
            "1875/1875 [==============================] - 10s 6ms/step - loss: 0.1955 - accuracy: 0.9693 - val_loss: 0.1922 - val_accuracy: 0.9709\n",
            "Epoch 15/20\n",
            "1875/1875 [==============================] - 10s 6ms/step - loss: 0.1937 - accuracy: 0.9700 - val_loss: 0.1910 - val_accuracy: 0.9701\n",
            "Epoch 16/20\n",
            "1875/1875 [==============================] - 11s 6ms/step - loss: 0.1949 - accuracy: 0.9689 - val_loss: 0.1800 - val_accuracy: 0.9750\n",
            "Epoch 17/20\n",
            "1875/1875 [==============================] - 9s 5ms/step - loss: 0.1922 - accuracy: 0.9704 - val_loss: 0.2033 - val_accuracy: 0.9678\n",
            "Epoch 18/20\n",
            "1875/1875 [==============================] - 10s 6ms/step - loss: 0.1902 - accuracy: 0.9708 - val_loss: 0.1861 - val_accuracy: 0.9733\n",
            "Epoch 19/20\n",
            "1875/1875 [==============================] - 11s 6ms/step - loss: 0.1928 - accuracy: 0.9696 - val_loss: 0.1785 - val_accuracy: 0.9734\n",
            "Epoch 20/20\n",
            "1875/1875 [==============================] - 11s 6ms/step - loss: 0.1938 - accuracy: 0.9696 - val_loss: 0.1974 - val_accuracy: 0.9703\n"
          ]
        },
        {
          "output_type": "execute_result",
          "data": {
            "text/plain": [
              "<keras.callbacks.History at 0x7f6fd6a371c0>"
            ]
          },
          "metadata": {},
          "execution_count": 11
        }
      ]
    }
  ]
}