{
  "cells": [
    {
      "cell_type": "code",
      "execution_count": 1,
      "metadata": {
        "id": "dP9E-9Ew1-eD"
      },
      "outputs": [],
      "source": [
        "import keras\n",
        "from keras.models import Sequential\n",
        "from keras.utils import np_utils\n",
        "from keras.layers.core import Dense, Dropout, Activation, Flatten\n",
        "from keras.layers.convolutional import Convolution2D, MaxPooling2D\n",
        "from sklearn.model_selection import train_test_split\n",
        "import pandas as pd\n",
        "import numpy as np "
      ]
    },
    {
      "cell_type": "markdown",
      "metadata": {
        "id": "-_4SMGVyF--Q"
      },
      "source": [
        "MNIST -> Modified National Institute of Standards and Technology Data Set\n",
        "The Data Set has 60000 small sqaure 28*28 gray scale images of handwritten single digits between 0 to 9."
      ]
    },
    {
      "cell_type": "code",
      "execution_count": 2,
      "metadata": {
        "colab": {
          "base_uri": "https://localhost:8080/",
          "height": 236
        },
        "id": "ilkh_7AY2JJB",
        "outputId": "3c77c745-231a-4cef-e1be-444391565cfd"
      },
      "outputs": [
        {
          "data": {
            "text/html": [
              "<div>\n",
              "<style scoped>\n",
              "    .dataframe tbody tr th:only-of-type {\n",
              "        vertical-align: middle;\n",
              "    }\n",
              "\n",
              "    .dataframe tbody tr th {\n",
              "        vertical-align: top;\n",
              "    }\n",
              "\n",
              "    .dataframe thead th {\n",
              "        text-align: right;\n",
              "    }\n",
              "</style>\n",
              "<table border=\"1\" class=\"dataframe\">\n",
              "  <thead>\n",
              "    <tr style=\"text-align: right;\">\n",
              "      <th></th>\n",
              "      <th>label</th>\n",
              "      <th>1x1</th>\n",
              "      <th>1x2</th>\n",
              "      <th>1x3</th>\n",
              "      <th>1x4</th>\n",
              "      <th>1x5</th>\n",
              "      <th>1x6</th>\n",
              "      <th>1x7</th>\n",
              "      <th>1x8</th>\n",
              "      <th>1x9</th>\n",
              "      <th>...</th>\n",
              "      <th>28x19</th>\n",
              "      <th>28x20</th>\n",
              "      <th>28x21</th>\n",
              "      <th>28x22</th>\n",
              "      <th>28x23</th>\n",
              "      <th>28x24</th>\n",
              "      <th>28x25</th>\n",
              "      <th>28x26</th>\n",
              "      <th>28x27</th>\n",
              "      <th>28x28</th>\n",
              "    </tr>\n",
              "  </thead>\n",
              "  <tbody>\n",
              "    <tr>\n",
              "      <th>0</th>\n",
              "      <td>7</td>\n",
              "      <td>0</td>\n",
              "      <td>0</td>\n",
              "      <td>0</td>\n",
              "      <td>0</td>\n",
              "      <td>0</td>\n",
              "      <td>0</td>\n",
              "      <td>0</td>\n",
              "      <td>0</td>\n",
              "      <td>0</td>\n",
              "      <td>...</td>\n",
              "      <td>0</td>\n",
              "      <td>0</td>\n",
              "      <td>0</td>\n",
              "      <td>0</td>\n",
              "      <td>0</td>\n",
              "      <td>0</td>\n",
              "      <td>0</td>\n",
              "      <td>0</td>\n",
              "      <td>0</td>\n",
              "      <td>0</td>\n",
              "    </tr>\n",
              "    <tr>\n",
              "      <th>1</th>\n",
              "      <td>2</td>\n",
              "      <td>0</td>\n",
              "      <td>0</td>\n",
              "      <td>0</td>\n",
              "      <td>0</td>\n",
              "      <td>0</td>\n",
              "      <td>0</td>\n",
              "      <td>0</td>\n",
              "      <td>0</td>\n",
              "      <td>0</td>\n",
              "      <td>...</td>\n",
              "      <td>0</td>\n",
              "      <td>0</td>\n",
              "      <td>0</td>\n",
              "      <td>0</td>\n",
              "      <td>0</td>\n",
              "      <td>0</td>\n",
              "      <td>0</td>\n",
              "      <td>0</td>\n",
              "      <td>0</td>\n",
              "      <td>0</td>\n",
              "    </tr>\n",
              "    <tr>\n",
              "      <th>2</th>\n",
              "      <td>1</td>\n",
              "      <td>0</td>\n",
              "      <td>0</td>\n",
              "      <td>0</td>\n",
              "      <td>0</td>\n",
              "      <td>0</td>\n",
              "      <td>0</td>\n",
              "      <td>0</td>\n",
              "      <td>0</td>\n",
              "      <td>0</td>\n",
              "      <td>...</td>\n",
              "      <td>0</td>\n",
              "      <td>0</td>\n",
              "      <td>0</td>\n",
              "      <td>0</td>\n",
              "      <td>0</td>\n",
              "      <td>0</td>\n",
              "      <td>0</td>\n",
              "      <td>0</td>\n",
              "      <td>0</td>\n",
              "      <td>0</td>\n",
              "    </tr>\n",
              "    <tr>\n",
              "      <th>3</th>\n",
              "      <td>0</td>\n",
              "      <td>0</td>\n",
              "      <td>0</td>\n",
              "      <td>0</td>\n",
              "      <td>0</td>\n",
              "      <td>0</td>\n",
              "      <td>0</td>\n",
              "      <td>0</td>\n",
              "      <td>0</td>\n",
              "      <td>0</td>\n",
              "      <td>...</td>\n",
              "      <td>0</td>\n",
              "      <td>0</td>\n",
              "      <td>0</td>\n",
              "      <td>0</td>\n",
              "      <td>0</td>\n",
              "      <td>0</td>\n",
              "      <td>0</td>\n",
              "      <td>0</td>\n",
              "      <td>0</td>\n",
              "      <td>0</td>\n",
              "    </tr>\n",
              "    <tr>\n",
              "      <th>4</th>\n",
              "      <td>4</td>\n",
              "      <td>0</td>\n",
              "      <td>0</td>\n",
              "      <td>0</td>\n",
              "      <td>0</td>\n",
              "      <td>0</td>\n",
              "      <td>0</td>\n",
              "      <td>0</td>\n",
              "      <td>0</td>\n",
              "      <td>0</td>\n",
              "      <td>...</td>\n",
              "      <td>0</td>\n",
              "      <td>0</td>\n",
              "      <td>0</td>\n",
              "      <td>0</td>\n",
              "      <td>0</td>\n",
              "      <td>0</td>\n",
              "      <td>0</td>\n",
              "      <td>0</td>\n",
              "      <td>0</td>\n",
              "      <td>0</td>\n",
              "    </tr>\n",
              "  </tbody>\n",
              "</table>\n",
              "<p>5 rows × 785 columns</p>\n",
              "</div>"
            ],
            "text/plain": [
              "   label  1x1  1x2  1x3  1x4  1x5  1x6  1x7  1x8  1x9  ...  28x19  28x20  \\\n",
              "0      7    0    0    0    0    0    0    0    0    0  ...      0      0   \n",
              "1      2    0    0    0    0    0    0    0    0    0  ...      0      0   \n",
              "2      1    0    0    0    0    0    0    0    0    0  ...      0      0   \n",
              "3      0    0    0    0    0    0    0    0    0    0  ...      0      0   \n",
              "4      4    0    0    0    0    0    0    0    0    0  ...      0      0   \n",
              "\n",
              "   28x21  28x22  28x23  28x24  28x25  28x26  28x27  28x28  \n",
              "0      0      0      0      0      0      0      0      0  \n",
              "1      0      0      0      0      0      0      0      0  \n",
              "2      0      0      0      0      0      0      0      0  \n",
              "3      0      0      0      0      0      0      0      0  \n",
              "4      0      0      0      0      0      0      0      0  \n",
              "\n",
              "[5 rows x 785 columns]"
            ]
          },
          "execution_count": 2,
          "metadata": {},
          "output_type": "execute_result"
        }
      ],
      "source": [
        "data = pd.read_csv('mnist_test.csv')\n",
        "data.head()"
      ]
    },
    {
      "cell_type": "code",
      "execution_count": 3,
      "metadata": {
        "id": "IAbhcWP37qbR"
      },
      "outputs": [
        {
          "name": "stdout",
          "output_type": "stream",
          "text": [
            "(10000, 785)\n"
          ]
        }
      ],
      "source": [
        "data.iloc[3,1:].values.reshape(28,28).astype('uint8') # reshaping into 28X28 array\n",
        "print(data.shape)"
      ]
    },
    {
      "cell_type": "code",
      "execution_count": 4,
      "metadata": {
        "id": "yWp7ubhu799W"
      },
      "outputs": [
        {
          "name": "stdout",
          "output_type": "stream",
          "text": [
            "(10000, 28, 28, 1)\n"
          ]
        }
      ],
      "source": [
        "df_x = np.array(data.iloc[:,1:].values.reshape(len(data),28,28,1)) # storing pixel array in form, length, width, and channel in df_x\n",
        "print(df_x.shape)"
      ]
    },
    {
      "cell_type": "code",
      "execution_count": 5,
      "metadata": {},
      "outputs": [
        {
          "name": "stdout",
          "output_type": "stream",
          "text": [
            "(10000,)\n"
          ]
        }
      ],
      "source": [
        "y = data.iloc[:,0].values # storing the labels in y\n",
        "print(y.shape)"
      ]
    },
    {
      "cell_type": "code",
      "execution_count": 6,
      "metadata": {
        "id": "JconfQ1A-Dcg"
      },
      "outputs": [
        {
          "name": "stdout",
          "output_type": "stream",
          "text": [
            "(10000, 10)\n"
          ]
        }
      ],
      "source": [
        "df_y = np.array(keras.utils.np_utils.to_categorical(y,num_classes=10))\n",
        "print(df_y.shape)"
      ]
    },
    {
      "cell_type": "code",
      "execution_count": 7,
      "metadata": {
        "id": "GhpkI5Xy_pmT"
      },
      "outputs": [],
      "source": [
        "x_train, x_test, y_train, y_test = train_test_split(df_x,df_y,test_size=0.2,random_state=4)"
      ]
    },
    {
      "cell_type": "code",
      "execution_count": 8,
      "metadata": {
        "id": "_LTg0U0t_z2L"
      },
      "outputs": [
        {
          "name": "stdout",
          "output_type": "stream",
          "text": [
            "Model: \"sequential\"\n",
            "_________________________________________________________________\n",
            " Layer (type)                Output Shape              Param #   \n",
            "=================================================================\n",
            " conv2d (Conv2D)             (None, 26, 26, 32)        320       \n",
            "                                                                 \n",
            " max_pooling2d (MaxPooling2D  (None, 13, 13, 32)       0         \n",
            " )                                                               \n",
            "                                                                 \n",
            " flatten (Flatten)           (None, 5408)              0         \n",
            "                                                                 \n",
            " dense (Dense)               (None, 100)               540900    \n",
            "                                                                 \n",
            " dropout (Dropout)           (None, 100)               0         \n",
            "                                                                 \n",
            " dense_1 (Dense)             (None, 10)                1010      \n",
            "                                                                 \n",
            " activation (Activation)     (None, 10)                0         \n",
            "                                                                 \n",
            "=================================================================\n",
            "Total params: 542,230\n",
            "Trainable params: 542,230\n",
            "Non-trainable params: 0\n",
            "_________________________________________________________________\n"
          ]
        }
      ],
      "source": [
        "model = Sequential()\n",
        "model.add(Convolution2D(32,3,data_format='channels_last',activation='relu',input_shape=(28,28,1)))\n",
        "model.add(MaxPooling2D(pool_size=(2,2)))\n",
        "model.add(Flatten())\n",
        "model.add(Dense(100))\n",
        "model.add(Dropout(0.5))\n",
        "model.add(Dense(10))\n",
        "model.add(Activation('softmax'))\n",
        "model.compile(loss='categorical_crossentropy', optimizer = 'adadelta', metrics = ['accuracy'])\n",
        "\n",
        "model.summary()"
      ]
    },
    {
      "cell_type": "code",
      "execution_count": 9,
      "metadata": {
        "colab": {
          "base_uri": "https://localhost:8080/"
        },
        "id": "EP6cG34tAYtQ",
        "outputId": "2dddc3c6-041c-4b87-df8f-dc162c3b3d66"
      },
      "outputs": [
        {
          "name": "stdout",
          "output_type": "stream",
          "text": [
            "Epoch 1/100\n",
            "250/250 [==============================] - 6s 23ms/step - loss: 82.8169 - accuracy: 0.1373 - val_loss: 42.2778 - val_accuracy: 0.2130\n",
            "Epoch 2/100\n",
            "250/250 [==============================] - 6s 24ms/step - loss: 63.3513 - accuracy: 0.1776 - val_loss: 28.8022 - val_accuracy: 0.2930\n",
            "Epoch 3/100\n",
            "250/250 [==============================] - 6s 26ms/step - loss: 52.3225 - accuracy: 0.2128 - val_loss: 22.2613 - val_accuracy: 0.3585\n",
            "Epoch 4/100\n",
            "250/250 [==============================] - 6s 24ms/step - loss: 44.3964 - accuracy: 0.2544 - val_loss: 17.8823 - val_accuracy: 0.4215\n",
            "Epoch 5/100\n",
            "250/250 [==============================] - 6s 23ms/step - loss: 38.2026 - accuracy: 0.2971 - val_loss: 14.5900 - val_accuracy: 0.4735\n",
            "Epoch 6/100\n",
            "250/250 [==============================] - 6s 23ms/step - loss: 33.1117 - accuracy: 0.3331 - val_loss: 12.1974 - val_accuracy: 0.5310\n",
            "Epoch 7/100\n",
            "250/250 [==============================] - 6s 24ms/step - loss: 29.5058 - accuracy: 0.3741 - val_loss: 10.4396 - val_accuracy: 0.5805\n",
            "Epoch 8/100\n",
            "250/250 [==============================] - 6s 24ms/step - loss: 26.0236 - accuracy: 0.4104 - val_loss: 9.1301 - val_accuracy: 0.6240\n",
            "Epoch 9/100\n",
            "250/250 [==============================] - 6s 24ms/step - loss: 22.9105 - accuracy: 0.4482 - val_loss: 8.1982 - val_accuracy: 0.6600\n",
            "Epoch 10/100\n",
            "250/250 [==============================] - 6s 24ms/step - loss: 20.9324 - accuracy: 0.4741 - val_loss: 7.4660 - val_accuracy: 0.6825\n",
            "Epoch 11/100\n",
            "250/250 [==============================] - 6s 24ms/step - loss: 18.9335 - accuracy: 0.5099 - val_loss: 6.8561 - val_accuracy: 0.7030\n",
            "Epoch 12/100\n",
            "250/250 [==============================] - 6s 25ms/step - loss: 17.5249 - accuracy: 0.5266 - val_loss: 6.4159 - val_accuracy: 0.7260\n",
            "Epoch 13/100\n",
            "250/250 [==============================] - 8s 32ms/step - loss: 17.2010 - accuracy: 0.5376 - val_loss: 5.9455 - val_accuracy: 0.7415\n",
            "Epoch 14/100\n",
            "250/250 [==============================] - 7s 30ms/step - loss: 15.5417 - accuracy: 0.5675 - val_loss: 5.6370 - val_accuracy: 0.7475\n",
            "Epoch 15/100\n",
            "250/250 [==============================] - 8s 32ms/step - loss: 14.9517 - accuracy: 0.5781 - val_loss: 5.4126 - val_accuracy: 0.7610\n",
            "Epoch 16/100\n",
            "250/250 [==============================] - 8s 32ms/step - loss: 14.0133 - accuracy: 0.5949 - val_loss: 5.1850 - val_accuracy: 0.7710\n",
            "Epoch 17/100\n",
            "250/250 [==============================] - 8s 31ms/step - loss: 13.7044 - accuracy: 0.6080 - val_loss: 5.0174 - val_accuracy: 0.7865\n",
            "Epoch 18/100\n",
            "250/250 [==============================] - 8s 30ms/step - loss: 12.7536 - accuracy: 0.6290 - val_loss: 4.8749 - val_accuracy: 0.7980\n",
            "Epoch 19/100\n",
            "250/250 [==============================] - 7s 26ms/step - loss: 12.6627 - accuracy: 0.6369 - val_loss: 4.6851 - val_accuracy: 0.8035\n",
            "Epoch 20/100\n",
            "250/250 [==============================] - 7s 27ms/step - loss: 12.2324 - accuracy: 0.6401 - val_loss: 4.4928 - val_accuracy: 0.8085\n",
            "Epoch 21/100\n",
            "250/250 [==============================] - 6s 26ms/step - loss: 11.6499 - accuracy: 0.6494 - val_loss: 4.3754 - val_accuracy: 0.8145\n",
            "Epoch 22/100\n",
            "250/250 [==============================] - 6s 25ms/step - loss: 11.1003 - accuracy: 0.6609 - val_loss: 4.2541 - val_accuracy: 0.8165\n",
            "Epoch 23/100\n",
            "250/250 [==============================] - 6s 23ms/step - loss: 11.1018 - accuracy: 0.6633 - val_loss: 4.1398 - val_accuracy: 0.8250\n",
            "Epoch 24/100\n",
            "250/250 [==============================] - 6s 24ms/step - loss: 10.6434 - accuracy: 0.6808 - val_loss: 4.0643 - val_accuracy: 0.8280\n",
            "Epoch 25/100\n",
            "250/250 [==============================] - 7s 28ms/step - loss: 10.4437 - accuracy: 0.6841 - val_loss: 3.9788 - val_accuracy: 0.8305\n",
            "Epoch 26/100\n",
            "250/250 [==============================] - 7s 30ms/step - loss: 10.3718 - accuracy: 0.6798 - val_loss: 3.8960 - val_accuracy: 0.8350\n",
            "Epoch 27/100\n",
            "250/250 [==============================] - 8s 31ms/step - loss: 9.9127 - accuracy: 0.6952 - val_loss: 3.8395 - val_accuracy: 0.8365\n",
            "Epoch 28/100\n",
            "250/250 [==============================] - 9s 36ms/step - loss: 9.7386 - accuracy: 0.6988 - val_loss: 3.7266 - val_accuracy: 0.8430\n",
            "Epoch 29/100\n",
            "250/250 [==============================] - 8s 32ms/step - loss: 9.5951 - accuracy: 0.7019 - val_loss: 3.6718 - val_accuracy: 0.8460\n",
            "Epoch 30/100\n",
            "250/250 [==============================] - 7s 30ms/step - loss: 9.0021 - accuracy: 0.7145 - val_loss: 3.6200 - val_accuracy: 0.8490\n",
            "Epoch 31/100\n",
            "250/250 [==============================] - 7s 27ms/step - loss: 8.9542 - accuracy: 0.7205 - val_loss: 3.5970 - val_accuracy: 0.8490\n",
            "Epoch 32/100\n",
            "250/250 [==============================] - 8s 33ms/step - loss: 8.5993 - accuracy: 0.7284 - val_loss: 3.5154 - val_accuracy: 0.8525\n",
            "Epoch 33/100\n",
            "250/250 [==============================] - 7s 26ms/step - loss: 8.7109 - accuracy: 0.7318 - val_loss: 3.4780 - val_accuracy: 0.8560\n",
            "Epoch 34/100\n",
            "250/250 [==============================] - 7s 26ms/step - loss: 8.3399 - accuracy: 0.7339 - val_loss: 3.4052 - val_accuracy: 0.8565\n",
            "Epoch 35/100\n",
            "250/250 [==============================] - 7s 27ms/step - loss: 8.6229 - accuracy: 0.7308 - val_loss: 3.3888 - val_accuracy: 0.8590\n",
            "Epoch 36/100\n",
            "250/250 [==============================] - 7s 28ms/step - loss: 7.9915 - accuracy: 0.7399 - val_loss: 3.3325 - val_accuracy: 0.8610\n",
            "Epoch 37/100\n",
            "250/250 [==============================] - 6s 25ms/step - loss: 7.9532 - accuracy: 0.7480 - val_loss: 3.2744 - val_accuracy: 0.8650\n",
            "Epoch 38/100\n",
            "250/250 [==============================] - 6s 25ms/step - loss: 7.8610 - accuracy: 0.7449 - val_loss: 3.2493 - val_accuracy: 0.8675\n",
            "Epoch 39/100\n",
            "250/250 [==============================] - 6s 26ms/step - loss: 7.6894 - accuracy: 0.7492 - val_loss: 3.2246 - val_accuracy: 0.8660\n",
            "Epoch 40/100\n",
            "250/250 [==============================] - 6s 24ms/step - loss: 7.6540 - accuracy: 0.7536 - val_loss: 3.1905 - val_accuracy: 0.8665\n",
            "Epoch 41/100\n",
            "250/250 [==============================] - 6s 25ms/step - loss: 7.3699 - accuracy: 0.7598 - val_loss: 3.1655 - val_accuracy: 0.8690\n",
            "Epoch 42/100\n",
            "250/250 [==============================] - 6s 25ms/step - loss: 7.6632 - accuracy: 0.7549 - val_loss: 3.1047 - val_accuracy: 0.8705\n",
            "Epoch 43/100\n",
            "250/250 [==============================] - 6s 25ms/step - loss: 7.1901 - accuracy: 0.7667 - val_loss: 3.0767 - val_accuracy: 0.8730\n",
            "Epoch 44/100\n",
            "250/250 [==============================] - 7s 28ms/step - loss: 7.2166 - accuracy: 0.7634 - val_loss: 3.0699 - val_accuracy: 0.8715\n",
            "Epoch 45/100\n",
            "250/250 [==============================] - 6s 25ms/step - loss: 6.8157 - accuracy: 0.7732 - val_loss: 3.0126 - val_accuracy: 0.8755\n",
            "Epoch 46/100\n",
            "250/250 [==============================] - 7s 27ms/step - loss: 7.0770 - accuracy: 0.7630 - val_loss: 2.9987 - val_accuracy: 0.8765\n",
            "Epoch 47/100\n",
            "250/250 [==============================] - 7s 28ms/step - loss: 7.1476 - accuracy: 0.7697 - val_loss: 2.9668 - val_accuracy: 0.8755\n",
            "Epoch 48/100\n",
            "250/250 [==============================] - 6s 25ms/step - loss: 6.8707 - accuracy: 0.7699 - val_loss: 2.9478 - val_accuracy: 0.8775\n",
            "Epoch 49/100\n",
            "250/250 [==============================] - 6s 25ms/step - loss: 6.8887 - accuracy: 0.7747 - val_loss: 2.9173 - val_accuracy: 0.8780\n",
            "Epoch 50/100\n",
            "250/250 [==============================] - 6s 25ms/step - loss: 6.4733 - accuracy: 0.7749 - val_loss: 2.8911 - val_accuracy: 0.8805\n",
            "Epoch 51/100\n",
            "250/250 [==============================] - 6s 25ms/step - loss: 6.4596 - accuracy: 0.7788 - val_loss: 2.8702 - val_accuracy: 0.8825\n",
            "Epoch 52/100\n",
            "250/250 [==============================] - 6s 25ms/step - loss: 6.5157 - accuracy: 0.7831 - val_loss: 2.8456 - val_accuracy: 0.8855\n",
            "Epoch 53/100\n",
            "250/250 [==============================] - 6s 24ms/step - loss: 6.6271 - accuracy: 0.7831 - val_loss: 2.8149 - val_accuracy: 0.8870\n",
            "Epoch 54/100\n",
            "250/250 [==============================] - 6s 25ms/step - loss: 6.5319 - accuracy: 0.7855 - val_loss: 2.7992 - val_accuracy: 0.8855\n",
            "Epoch 55/100\n",
            "250/250 [==============================] - 7s 28ms/step - loss: 6.2596 - accuracy: 0.7906 - val_loss: 2.7694 - val_accuracy: 0.8895\n",
            "Epoch 56/100\n",
            "250/250 [==============================] - 9s 35ms/step - loss: 6.2478 - accuracy: 0.7894 - val_loss: 2.7717 - val_accuracy: 0.8915\n",
            "Epoch 57/100\n",
            "250/250 [==============================] - 8s 31ms/step - loss: 6.0664 - accuracy: 0.7903 - val_loss: 2.7660 - val_accuracy: 0.8885\n",
            "Epoch 58/100\n",
            "250/250 [==============================] - 7s 27ms/step - loss: 5.8226 - accuracy: 0.7972 - val_loss: 2.7377 - val_accuracy: 0.8885\n",
            "Epoch 59/100\n",
            "250/250 [==============================] - 7s 28ms/step - loss: 6.1350 - accuracy: 0.7897 - val_loss: 2.7107 - val_accuracy: 0.8910\n",
            "Epoch 60/100\n",
            "250/250 [==============================] - 6s 26ms/step - loss: 6.1266 - accuracy: 0.7928 - val_loss: 2.6913 - val_accuracy: 0.8920\n",
            "Epoch 61/100\n",
            "250/250 [==============================] - 7s 28ms/step - loss: 5.8691 - accuracy: 0.7997 - val_loss: 2.6548 - val_accuracy: 0.8930\n",
            "Epoch 62/100\n",
            "250/250 [==============================] - 7s 28ms/step - loss: 5.9552 - accuracy: 0.7977 - val_loss: 2.6327 - val_accuracy: 0.8935\n",
            "Epoch 63/100\n",
            "250/250 [==============================] - 7s 30ms/step - loss: 5.8227 - accuracy: 0.7946 - val_loss: 2.6299 - val_accuracy: 0.8925\n",
            "Epoch 64/100\n",
            "250/250 [==============================] - 8s 31ms/step - loss: 5.9441 - accuracy: 0.7993 - val_loss: 2.6115 - val_accuracy: 0.8955\n",
            "Epoch 65/100\n",
            "250/250 [==============================] - 9s 35ms/step - loss: 5.5114 - accuracy: 0.8061 - val_loss: 2.6009 - val_accuracy: 0.8930\n",
            "Epoch 66/100\n",
            "250/250 [==============================] - 11s 43ms/step - loss: 5.5227 - accuracy: 0.8052 - val_loss: 2.5792 - val_accuracy: 0.8945\n",
            "Epoch 67/100\n",
            "250/250 [==============================] - 8s 34ms/step - loss: 5.6205 - accuracy: 0.8004 - val_loss: 2.5668 - val_accuracy: 0.8940\n",
            "Epoch 68/100\n",
            "250/250 [==============================] - 8s 32ms/step - loss: 5.4825 - accuracy: 0.8035 - val_loss: 2.5585 - val_accuracy: 0.8935\n",
            "Epoch 69/100\n",
            "250/250 [==============================] - 8s 32ms/step - loss: 5.6973 - accuracy: 0.8049 - val_loss: 2.5558 - val_accuracy: 0.8950\n",
            "Epoch 70/100\n",
            "250/250 [==============================] - 7s 29ms/step - loss: 5.5764 - accuracy: 0.8041 - val_loss: 2.5373 - val_accuracy: 0.8975\n",
            "Epoch 71/100\n",
            "250/250 [==============================] - 8s 31ms/step - loss: 5.3072 - accuracy: 0.8099 - val_loss: 2.5354 - val_accuracy: 0.8965\n",
            "Epoch 72/100\n",
            "250/250 [==============================] - 8s 31ms/step - loss: 5.4789 - accuracy: 0.8079 - val_loss: 2.5032 - val_accuracy: 0.8965\n",
            "Epoch 73/100\n",
            "250/250 [==============================] - 8s 32ms/step - loss: 5.2765 - accuracy: 0.8116 - val_loss: 2.4938 - val_accuracy: 0.8985\n",
            "Epoch 74/100\n",
            "250/250 [==============================] - 8s 30ms/step - loss: 5.1754 - accuracy: 0.8198 - val_loss: 2.4848 - val_accuracy: 0.8990\n",
            "Epoch 75/100\n",
            "250/250 [==============================] - 8s 32ms/step - loss: 5.2526 - accuracy: 0.8158 - val_loss: 2.4674 - val_accuracy: 0.9005\n",
            "Epoch 76/100\n",
            "250/250 [==============================] - 7s 27ms/step - loss: 5.0534 - accuracy: 0.8195 - val_loss: 2.4470 - val_accuracy: 0.8995\n",
            "Epoch 77/100\n",
            "250/250 [==============================] - 7s 27ms/step - loss: 5.0907 - accuracy: 0.8179 - val_loss: 2.4399 - val_accuracy: 0.9010\n",
            "Epoch 78/100\n",
            "250/250 [==============================] - 6s 23ms/step - loss: 4.9370 - accuracy: 0.8185 - val_loss: 2.4467 - val_accuracy: 0.9000\n",
            "Epoch 79/100\n",
            "250/250 [==============================] - 6s 22ms/step - loss: 5.1185 - accuracy: 0.8145 - val_loss: 2.4151 - val_accuracy: 0.9025\n",
            "Epoch 80/100\n",
            "250/250 [==============================] - 8s 31ms/step - loss: 5.0624 - accuracy: 0.8205 - val_loss: 2.4221 - val_accuracy: 0.9015\n",
            "Epoch 81/100\n",
            "250/250 [==============================] - 7s 26ms/step - loss: 4.8590 - accuracy: 0.8245 - val_loss: 2.3937 - val_accuracy: 0.9035\n",
            "Epoch 82/100\n",
            "250/250 [==============================] - 7s 27ms/step - loss: 5.0068 - accuracy: 0.8226 - val_loss: 2.3865 - val_accuracy: 0.9050\n",
            "Epoch 83/100\n",
            "250/250 [==============================] - 6s 25ms/step - loss: 4.9484 - accuracy: 0.8270 - val_loss: 2.3817 - val_accuracy: 0.9030\n",
            "Epoch 84/100\n",
            "250/250 [==============================] - 6s 24ms/step - loss: 4.8983 - accuracy: 0.8251 - val_loss: 2.3692 - val_accuracy: 0.9035\n",
            "Epoch 85/100\n",
            "250/250 [==============================] - 6s 24ms/step - loss: 4.6920 - accuracy: 0.8311 - val_loss: 2.3574 - val_accuracy: 0.9045\n",
            "Epoch 86/100\n",
            "250/250 [==============================] - 6s 23ms/step - loss: 4.6079 - accuracy: 0.8298 - val_loss: 2.3419 - val_accuracy: 0.9055\n",
            "Epoch 87/100\n",
            "250/250 [==============================] - 7s 26ms/step - loss: 4.6205 - accuracy: 0.8296 - val_loss: 2.3262 - val_accuracy: 0.9050\n",
            "Epoch 88/100\n",
            "250/250 [==============================] - 6s 24ms/step - loss: 4.8279 - accuracy: 0.8306 - val_loss: 2.3313 - val_accuracy: 0.9075\n",
            "Epoch 89/100\n",
            "250/250 [==============================] - 6s 24ms/step - loss: 4.6497 - accuracy: 0.8316 - val_loss: 2.3122 - val_accuracy: 0.9055\n",
            "Epoch 90/100\n",
            "250/250 [==============================] - 6s 24ms/step - loss: 4.6150 - accuracy: 0.8321 - val_loss: 2.3236 - val_accuracy: 0.9080\n",
            "Epoch 91/100\n",
            "250/250 [==============================] - 6s 23ms/step - loss: 4.8059 - accuracy: 0.8260 - val_loss: 2.2934 - val_accuracy: 0.9090\n",
            "Epoch 92/100\n",
            "250/250 [==============================] - 6s 24ms/step - loss: 4.5443 - accuracy: 0.8316 - val_loss: 2.2914 - val_accuracy: 0.9080\n",
            "Epoch 93/100\n",
            "250/250 [==============================] - 6s 24ms/step - loss: 4.6236 - accuracy: 0.8319 - val_loss: 2.2767 - val_accuracy: 0.9070\n",
            "Epoch 94/100\n",
            "250/250 [==============================] - 6s 24ms/step - loss: 4.4781 - accuracy: 0.8359 - val_loss: 2.2783 - val_accuracy: 0.9105\n",
            "Epoch 95/100\n",
            "250/250 [==============================] - 6s 23ms/step - loss: 4.4853 - accuracy: 0.8366 - val_loss: 2.2729 - val_accuracy: 0.9100\n",
            "Epoch 96/100\n",
            "250/250 [==============================] - 6s 24ms/step - loss: 4.4735 - accuracy: 0.8386 - val_loss: 2.2476 - val_accuracy: 0.9110\n",
            "Epoch 97/100\n",
            "250/250 [==============================] - 6s 24ms/step - loss: 4.4658 - accuracy: 0.8378 - val_loss: 2.2259 - val_accuracy: 0.9120\n",
            "Epoch 98/100\n",
            "250/250 [==============================] - 6s 24ms/step - loss: 4.4603 - accuracy: 0.8386 - val_loss: 2.2256 - val_accuracy: 0.9115\n",
            "Epoch 99/100\n",
            "250/250 [==============================] - 6s 24ms/step - loss: 4.3535 - accuracy: 0.8378 - val_loss: 2.2165 - val_accuracy: 0.9120\n",
            "Epoch 100/100\n",
            "250/250 [==============================] - 6s 24ms/step - loss: 4.2747 - accuracy: 0.8397 - val_loss: 2.2309 - val_accuracy: 0.9095\n"
          ]
        },
        {
          "data": {
            "text/plain": [
              "<keras.callbacks.History at 0x206d2658f90>"
            ]
          },
          "execution_count": 9,
          "metadata": {},
          "output_type": "execute_result"
        }
      ],
      "source": [
        "model.fit(x_train,y_train,validation_data=(x_test,y_test),epochs=100)"
      ]
    },
    {
      "cell_type": "code",
      "execution_count": 10,
      "metadata": {
        "colab": {
          "base_uri": "https://localhost:8080/"
        },
        "id": "gtQiv0U0FjwI",
        "outputId": "ea1d1226-184b-40d6-8d6c-1145a739ba0a"
      },
      "outputs": [
        {
          "name": "stdout",
          "output_type": "stream",
          "text": [
            "63/63 [==============================] - 0s 6ms/step - loss: 2.2309 - accuracy: 0.9095\n"
          ]
        },
        {
          "data": {
            "text/plain": [
              "[2.2309377193450928, 0.909500002861023]"
            ]
          },
          "execution_count": 10,
          "metadata": {},
          "output_type": "execute_result"
        }
      ],
      "source": [
        "model.evaluate(x_test,y_test)"
      ]
    }
  ],
  "metadata": {
    "colab": {
      "name": "cnnimplementation.ipynb",
      "provenance": []
    },
    "kernelspec": {
      "display_name": "Python 3",
      "name": "python3"
    },
    "language_info": {
      "codemirror_mode": {
        "name": "ipython",
        "version": 3
      },
      "file_extension": ".py",
      "mimetype": "text/x-python",
      "name": "python",
      "nbconvert_exporter": "python",
      "pygments_lexer": "ipython3",
      "version": "3.11.1"
    }
  },
  "nbformat": 4,
  "nbformat_minor": 0
}
